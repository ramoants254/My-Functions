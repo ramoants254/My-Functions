{
  "nbformat": 4,
  "nbformat_minor": 0,
  "metadata": {
    "colab": {
      "provenance": [],
      "authorship_tag": "ABX9TyNzxo9FOIlqrLK1sgKTL4p6",
      "include_colab_link": true
    },
    "kernelspec": {
      "name": "python3",
      "display_name": "Python 3"
    },
    "language_info": {
      "name": "python"
    }
  },
  "cells": [
    {
      "cell_type": "markdown",
      "metadata": {
        "id": "view-in-github",
        "colab_type": "text"
      },
      "source": [
        "<a href=\"https://colab.research.google.com/github/ramoants254/My-Functions/blob/main/my_helper_functions.ipynb\" target=\"_parent\"><img src=\"https://colab.research.google.com/assets/colab-badge.svg\" alt=\"Open In Colab\"/></a>"
      ]
    },
    {
      "cell_type": "markdown",
      "source": [
        "## Evaluation Function"
      ],
      "metadata": {
        "id": "mMMAlVQlW54L"
      }
    },
    {
      "cell_type": "code",
      "execution_count": null,
      "metadata": {
        "id": "bKeCaUgMWx3H"
      },
      "outputs": [],
      "source": [
        "def calulate_results(y_true,y_pred):\n",
        "    model_accuracy=accuracy_score(y_true,y_pred)*100\n",
        "    model_precision=precision_score(y_true,y_pred)*100\n",
        "    model_recall=recall_score(y_true,y_pred)*100\n",
        "    model_f1=f1_score(y_true,y_pred)*100\n",
        "    model_results={\n",
        "        'accuracy':model_accuracy,\n",
        "        'precision':model_precision,\n",
        "        'recall':model_recall,\n",
        "        'f1':model_f1\n",
        "    }\n",
        "    return model_results"
      ]
    },
    {
      "cell_type": "code",
      "source": [
        "calulate_results(y_test,model_predict)"
      ],
      "metadata": {
        "id": "0oOyVQ6xW2IT"
      },
      "execution_count": null,
      "outputs": []
    },
    {
      "cell_type": "code",
      "source": [
        "all_model_results=pd.DataFrame({\n",
        "    'model':model_1_results,\n",
        "    'model_2':model_2_results,\n",
        "    'model_3':model_3_results,\n",
        "    'model_4':model_4_results,\n",
        "    'model_5':model_5_results\n",
        "\n",
        "})\n",
        "\n"
      ],
      "metadata": {
        "id": "7ZKvnWyA-Kk8"
      },
      "execution_count": null,
      "outputs": []
    }
  ]
}